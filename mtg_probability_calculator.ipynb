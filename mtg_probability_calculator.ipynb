{
 "metadata": {
  "name": "",
  "signature": "sha256:e5d61dd2f9de05a5f78ff02e6c54fdd2cbb770118238d1be6e001c6f83b284b5"
 },
 "nbformat": 3,
 "nbformat_minor": 0,
 "worksheets": [
  {
   "cells": [
    {
     "cell_type": "markdown",
     "metadata": {},
     "source": [
      "This land probability calculator for Magic the Gathering is a fun way for me to cement my understanding of probability theory (DeGroot and Schervish, chapter 1), practice probability calculation in Python, and at the same have an interesting tool to support my family's new hobby.\n",
      "\n",
      "If you want to skip the probability explanations, then simply scroll to the bottom and see how probabilities vary as you adjust land counts and deck size with the sliders.\n",
      "\n",
      "Joe Golton\n",
      "www.filterjoe.com\n",
      "December, 2014"
     ]
    },
    {
     "cell_type": "code",
     "collapsed": false,
     "input": [
      "from IPython.html.widgets import interact, IntSliderWidget\n",
      "from IPython.display import clear_output, display, HTML\n",
      "\n",
      "from sympy import binomial as combos"
     ],
     "language": "python",
     "metadata": {},
     "outputs": [],
     "prompt_number": 1
    },
    {
     "cell_type": "code",
     "collapsed": false,
     "input": [
      "# Ignore this cell (unless you intend to create your own iPython notebooks)\n",
      "\n",
      "# At first all this code was integrated into land_probability() function. It was fewer\n",
      "# lines of code but harder to read. This HTML and iPython Notebook messiness is not\n",
      "# important to calculating probability. By pulling out the messy display code, it is\n",
      "# easier to focus on and understand the probability aspects of land_probability().\n",
      "\n",
      "# This can be re-used in other iPython Notebooks, simplifing HTML output for interact()\n",
      "\n",
      "def title_HTML(title):\n",
      "    return '<h3>' + title + '</h3>'\n",
      "\n",
      "def intro_HTML(*args):\n",
      "    lands, cards, drawn_cards, mulligans_so_far = args\n",
      "    slider_inputs = {'lands: ': lands,\n",
      "                     'cards: ': cards,\n",
      "                     'number of cards drawn: ': drawn_cards,\n",
      "                     'mulligans so far: ': mulligans_so_far}\n",
      "    s = ''\n",
      "    for key in slider_inputs:\n",
      "        s += '<br>' + key + str(slider_inputs[key])\n",
      "    return s\n",
      "\n",
      "def start_HTML_table(headers):\n",
      "    s = '<br><table>\\n<tr>'\n",
      "    for header in headers:\n",
      "        s += '<th>' + header + '</th>'\n",
      "    s += '</tr>'\n",
      "    return s\n",
      "\n",
      "def row_of_HTML_table(x_int, scipy_float):\n",
      "    '''\n",
      "    Args:\n",
      "      x_int: integer\n",
      "      scipy_float: float (scipy or regular)\n",
      "    '''\n",
      "    return '<tr><td>{0:.>6}</td><td>{1:.2%}</td></tr>'.format(x_int, float(scipy_float))\n",
      "    # must coerce scipy float type into regular float type for format to work right\n",
      "    \n",
      "def finish_HTML_table(s, min_land, max_land, drawn_cards, mulligans_so_far,\n",
      "                      below_land_prob, above_land_prob, target_land_prob, out_of_range):\n",
      "    cumulative_p = 1\n",
      "    for p in out_of_range[:-1]:\n",
      "        cumulative_p *= p\n",
      "    s += '</table><br>'\n",
      "    s += '{0:.1%} chance of between {1} and {2} lands in this {3} card draw.<br>'.format(float(target_land_prob), min_land, max_land, drawn_cards)\n",
      "    s += '{0:.1%} chance that number of lands will be outside this range.<br><br>'.format(float(1 - target_land_prob))\n",
      "    s += '{0:.2%} chance that number of lands will be too low after {1} mulligan(s).<br>'.format(float(below_land_prob * cumulative_p), mulligans_so_far)\n",
      "    s += '{0:.2%} chance that number of lands will be too high after {1} mulligan(s).<br><br>'.format(float(above_land_prob * cumulative_p), mulligans_so_far)\n",
      "    return s"
     ],
     "language": "python",
     "metadata": {},
     "outputs": [],
     "prompt_number": 2
    },
    {
     "cell_type": "markdown",
     "metadata": {},
     "source": [
      "In mathematical notation, the probability of exactly 2 land cards appearing in a 7 card draw from a 60 card deck with 20 lands is:\n",
      "\n",
      "$$\\frac{\\binom{40}{5}\\binom{20}{2}}{60 \\choose 7} = \n",
      "\\frac{\\frac{40!}{5!35!}\\frac{20!}{2!18!}}{\\frac{60!}{7!53!}} = .3237$$\n",
      "\n",
      "The denominator in all probability calculation represents the sample space (\"out of how many possibilities . . .\").  In this case, it is the number of subsets of 7 cards possible out of 60 cards. This is exactly the definition of a combination. Plugging into the combination formula, using \"60 choose 7\":\n",
      "\n",
      "$${60 \\choose 7} = \\frac{60!}{7!53!}$$\n",
      "\n",
      "The first part of the numerator represents the number of nonland combinations possible. There are 5 lands in this hand, drawn from 40 nonlands. So the number of subsets of 5 cards possible out of 40 cards is:\n",
      "\n",
      "$${40 \\choose 5} = \\frac{40!}{5!35!}$$\n",
      "\n",
      "Similarly, the second part of the numerator is the number of land combinations possible when 2 lands are drawn from 20 lands:\n",
      "\n",
      "$${20 \\choose 5} = \\frac{20!}{2!18!}$$\n",
      "\n",
      "These two parts of the numerator are multiplied, because each single combination of nonlands can be combined with all the combinations of lands. The general form of this is the \"multiplication rule\" which states:\n",
      "\n",
      "> When all the outcomes in each part of an experiment can occur regardless of which outcomes have occured in the other parts, then the parts are multipled together."
     ]
    },
    {
     "cell_type": "code",
     "collapsed": false,
     "input": [
      "def land_probability(lands, cards, drawn_cards,\n",
      "                     min_land, max_land, mulligans=0):\n",
      "    out_of_range = []\n",
      "    nonlands = cards - lands\n",
      "    text = title_HTML(\"Probabilities for Lands Drawn:\")\n",
      "    for mulligans_so_far in range(mulligans+1):\n",
      "        text += intro_HTML(lands, cards, drawn_cards - mulligans_so_far, mulligans_so_far)\n",
      "        text += start_HTML_table(['Lands', 'Probability'])\n",
      "        target_land_prob, below_land_prob, above_land_prob = 0, 0, 0\n",
      "        for drawn_lands in range(0, drawn_cards + 1 - mulligans_so_far):\n",
      "            p = (combos(nonlands, drawn_cards - drawn_lands - mulligans_so_far)\n",
      "                 * combos(lands, drawn_lands)\n",
      "                 / float(combos(cards, drawn_cards - mulligans_so_far)))\n",
      "            if drawn_lands < min_land:\n",
      "                below_land_prob += p\n",
      "            elif drawn_lands > max_land:\n",
      "                above_land_prob += p\n",
      "            else:\n",
      "                target_land_prob +=p\n",
      "            text += row_of_HTML_table(drawn_lands, p)\n",
      "        out_of_range.append(below_land_prob + above_land_prob)\n",
      "        text = finish_HTML_table(text, min_land, max_land, drawn_cards - mulligans_so_far, mulligans_so_far,\n",
      "                                 below_land_prob, above_land_prob, target_land_prob, out_of_range)\n",
      "    display(HTML(text))"
     ],
     "language": "python",
     "metadata": {},
     "outputs": [],
     "prompt_number": 3
    },
    {
     "cell_type": "markdown",
     "metadata": {},
     "source": [
      "Magic the Gathering intro packs recommend the following defaults for land construction:\n",
      "\n",
      "* 60 card deck\n",
      "* 24 lands in the deck\n",
      "\n",
      "If you follow the recommended defaults, you can see that there is better than an 85% chance of starting with at least 2 lands when drawing your initial 7 card hand.\n",
      "\n",
      "It can be useful to think of land tappable creatures as lands for the purposes of this calculation. For example, if you have 20 lands and 4 Mystic Elves, that is essentially equivalent to 24 lands (well, not really, because there are many more ways to lose a Mystic Elf than a land . . . but it's still useful to think of your starting hand this way as you're not likely to lose an Elf on turn 1).\n",
      "\n",
      "You may want to consider mulligans in your calculation. Move the mulligan slider to \"1\" and you'll see the probabilities for the subsequent 6 card draw, as well as the chances of getting below or above your desired range of lands to start with.\n",
      "\n",
      "I assume for this analysis that mulligans automatically occur when below minimum required land or above maximum required land, but not otherwise. Therefore, the probability, p, of having too little land after 1 or 2 draws (2nd draw only if 1st draw outside of target range) is:\n",
      "\n",
      "p = p1(below) * (p0(below) + p0(above))\n",
      "\n",
      "where\n",
      "\n",
      "* p0 represents probability in a 7 card draw (zero mulligans)\n",
      "* p1 represents probability in a 6 card draw (1 mulligan)\n",
      "* p0(below) represents probability that the number of cards drawn is below the required minimum"
     ]
    },
    {
     "cell_type": "code",
     "collapsed": false,
     "input": [
      "i = interact(land_probability,\n",
      "             lands = IntSliderWidget(min = 1, max = 50, step = 1, value = 24), \n",
      "             cards = IntSliderWidget(min = 1, max = 200, step = 1, value = 60), \n",
      "             drawn_cards = IntSliderWidget(min = 0, max = 20, step = 1, value = 7),\n",
      "             min_land = IntSliderWidget(min = 0, max = 3, step = 1, value = 2),\n",
      "             max_land = IntSliderWidget(min = 3, max = 7, step = 1, value = 5),\n",
      "             mulligans = IntSliderWidget(min = 0, max = 3, step = 1, value = 0)\n",
      "             )"
     ],
     "language": "python",
     "metadata": {},
     "outputs": [
      {
       "html": [
        "<h3>Probabilities for Lands Drawn:</h3><br>cards: 60<br>number of cards drawn: 7<br>mulligans so far: 0<br>lands: 24<br><table>\n",
        "<tr><th>Lands</th><th>Probability</th></tr><tr><td>.....0</td><td>2.16%</td></tr><tr><td>.....1</td><td>12.10%</td></tr><tr><td>.....2</td><td>26.94%</td></tr><tr><td>.....3</td><td>30.87%</td></tr><tr><td>.....4</td><td>19.64%</td></tr><tr><td>.....5</td><td>6.93%</td></tr><tr><td>.....6</td><td>1.25%</td></tr><tr><td>.....7</td><td>0.09%</td></tr></table><br>84.4% chance of between 2 and 5 lands in this 7 card draw.<br>15.6% chance that number of lands will be outside this range.<br><br>14.27% chance that number of lands will be too low after 0 mulligan(s).<br>1.34% chance that number of lands will be too high after 0 mulligan(s).<br><br>"
       ],
       "metadata": {},
       "output_type": "display_data",
       "text": [
        "<IPython.core.display.HTML at 0x7f8a4cbc91d0>"
       ]
      }
     ],
     "prompt_number": 4
    },
    {
     "cell_type": "code",
     "collapsed": false,
     "input": [],
     "language": "python",
     "metadata": {},
     "outputs": []
    }
   ],
   "metadata": {}
  }
 ]
}